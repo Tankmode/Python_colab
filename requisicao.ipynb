import requests
import os

def download(url, endereco):
  #OPERAÇÃO DE REQUISIÇÃO
  resposta = requests.get(url)
  if resposta.status_code == requests.codes.OK:
    with open(endereco,'wb') as novo_arquivo:
        novo_arquivo.write(resposta.content)
    print("download concluido. destino salvo: {}".format(endereco))
  else:
    resposta.raise_for_status()

if __name__ == '_main_':
  BASE_URL = 'https://math.mit.edu/classes/18.745/Notes/Lecture_{}_Notes.pdf'
  OUTPUT_dir = 'output'

  for i in range(1,26):
      nome_arquivo = os.path.join(OUTPUT_dir, 'nota de aula_{}.pdf'.format(i))
      download(BASE_URL.format(i), nome_arquivo)
